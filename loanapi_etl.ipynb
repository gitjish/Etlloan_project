{
 "cells": [
  {
   "cell_type": "markdown",
   "metadata": {},
   "source": []
  },
  {
   "attachments": {},
   "cell_type": "markdown",
   "metadata": {},
   "source": []
  },
  {
   "cell_type": "code",
   "execution_count": 1,
   "metadata": {},
   "outputs": [],
   "source": [
    "import pandas as pd\n",
    "import requests\n",
    "import json\n",
    "from pprint import pp\n",
    "from pyspark.sql import SparkSession\n",
    "from pyspark.sql.functions import*\n",
    "import matplotlib.pyplot as plt\n"
   ]
  },
  {
   "cell_type": "code",
   "execution_count": 2,
   "metadata": {},
   "outputs": [
    {
     "name": "stdout",
     "output_type": "stream",
     "text": [
      "<Response [200]>\n"
     ]
    }
   ],
   "source": [
    "url= 'https://raw.githubusercontent.com/platformps/LoanDataset/main/loan_data.json'\n",
    "response= requests.get(url)\n",
    "r= response.json()\n",
    "print(response)"
   ]
  },
  {
   "cell_type": "code",
   "execution_count": 3,
   "metadata": {},
   "outputs": [
    {
     "data": {
      "text/html": [
       "<div>\n",
       "<style scoped>\n",
       "    .dataframe tbody tr th:only-of-type {\n",
       "        vertical-align: middle;\n",
       "    }\n",
       "\n",
       "    .dataframe tbody tr th {\n",
       "        vertical-align: top;\n",
       "    }\n",
       "\n",
       "    .dataframe thead th {\n",
       "        text-align: right;\n",
       "    }\n",
       "</style>\n",
       "<table border=\"1\" class=\"dataframe\">\n",
       "  <thead>\n",
       "    <tr style=\"text-align: right;\">\n",
       "      <th></th>\n",
       "      <th>Application_ID</th>\n",
       "      <th>Gender</th>\n",
       "      <th>Married</th>\n",
       "      <th>Dependents</th>\n",
       "      <th>Education</th>\n",
       "      <th>Self_Employed</th>\n",
       "      <th>Credit_History</th>\n",
       "      <th>Property_Area</th>\n",
       "      <th>Income</th>\n",
       "      <th>Application_Status</th>\n",
       "    </tr>\n",
       "  </thead>\n",
       "  <tbody>\n",
       "    <tr>\n",
       "      <th>0</th>\n",
       "      <td>LP001002</td>\n",
       "      <td>Male</td>\n",
       "      <td>No</td>\n",
       "      <td>0</td>\n",
       "      <td>Graduate</td>\n",
       "      <td>No</td>\n",
       "      <td>1</td>\n",
       "      <td>Urban</td>\n",
       "      <td>medium</td>\n",
       "      <td>Y</td>\n",
       "    </tr>\n",
       "    <tr>\n",
       "      <th>1</th>\n",
       "      <td>LP001003</td>\n",
       "      <td>Male</td>\n",
       "      <td>Yes</td>\n",
       "      <td>1</td>\n",
       "      <td>Graduate</td>\n",
       "      <td>No</td>\n",
       "      <td>1</td>\n",
       "      <td>Rural</td>\n",
       "      <td>medium</td>\n",
       "      <td>N</td>\n",
       "    </tr>\n",
       "    <tr>\n",
       "      <th>2</th>\n",
       "      <td>LP001005</td>\n",
       "      <td>Male</td>\n",
       "      <td>Yes</td>\n",
       "      <td>0</td>\n",
       "      <td>Graduate</td>\n",
       "      <td>Yes</td>\n",
       "      <td>1</td>\n",
       "      <td>Urban</td>\n",
       "      <td>low</td>\n",
       "      <td>Y</td>\n",
       "    </tr>\n",
       "    <tr>\n",
       "      <th>3</th>\n",
       "      <td>LP001006</td>\n",
       "      <td>Male</td>\n",
       "      <td>Yes</td>\n",
       "      <td>0</td>\n",
       "      <td>Not Graduate</td>\n",
       "      <td>No</td>\n",
       "      <td>1</td>\n",
       "      <td>Urban</td>\n",
       "      <td>low</td>\n",
       "      <td>Y</td>\n",
       "    </tr>\n",
       "    <tr>\n",
       "      <th>4</th>\n",
       "      <td>LP001008</td>\n",
       "      <td>Male</td>\n",
       "      <td>No</td>\n",
       "      <td>0</td>\n",
       "      <td>Graduate</td>\n",
       "      <td>No</td>\n",
       "      <td>1</td>\n",
       "      <td>Urban</td>\n",
       "      <td>medium</td>\n",
       "      <td>Y</td>\n",
       "    </tr>\n",
       "  </tbody>\n",
       "</table>\n",
       "</div>"
      ],
      "text/plain": [
       "  Application_ID Gender Married Dependents     Education Self_Employed  \\\n",
       "0       LP001002   Male      No          0      Graduate            No   \n",
       "1       LP001003   Male     Yes          1      Graduate            No   \n",
       "2       LP001005   Male     Yes          0      Graduate           Yes   \n",
       "3       LP001006   Male     Yes          0  Not Graduate            No   \n",
       "4       LP001008   Male      No          0      Graduate            No   \n",
       "\n",
       "   Credit_History Property_Area  Income Application_Status  \n",
       "0               1         Urban  medium                  Y  \n",
       "1               1         Rural  medium                  N  \n",
       "2               1         Urban     low                  Y  \n",
       "3               1         Urban     low                  Y  \n",
       "4               1         Urban  medium                  Y  "
      ]
     },
     "execution_count": 3,
     "metadata": {},
     "output_type": "execute_result"
    }
   ],
   "source": [
    "\n",
    "df_loan= pd.DataFrame(r)\n",
    "df_loan.head()"
   ]
  },
  {
   "cell_type": "code",
   "execution_count": 4,
   "metadata": {},
   "outputs": [],
   "source": [
    "spark = SparkSession.builder.appName('loaninfo').getOrCreate()"
   ]
  },
  {
   "cell_type": "code",
   "execution_count": 5,
   "metadata": {},
   "outputs": [
    {
     "name": "stderr",
     "output_type": "stream",
     "text": [
      "c:\\Users\\12242\\python_practice\\Etlloan_project\\cap_env\\lib\\site-packages\\pyspark\\sql\\pandas\\conversion.py:474: FutureWarning: iteritems is deprecated and will be removed in a future version. Use .items instead.\n",
      "  for column, series in pdf.iteritems():\n",
      "c:\\Users\\12242\\python_practice\\Etlloan_project\\cap_env\\lib\\site-packages\\pyspark\\sql\\pandas\\conversion.py:486: FutureWarning: iteritems is deprecated and will be removed in a future version. Use .items instead.\n",
      "  for column, series in pdf.iteritems():\n"
     ]
    },
    {
     "name": "stdout",
     "output_type": "stream",
     "text": [
      "+--------------+------+-------+----------+------------+-------------+--------------+-------------+------+------------------+\n",
      "|Application_ID|Gender|Married|Dependents|   Education|Self_Employed|Credit_History|Property_Area|Income|Application_Status|\n",
      "+--------------+------+-------+----------+------------+-------------+--------------+-------------+------+------------------+\n",
      "|      LP001002|  Male|     No|         0|    Graduate|           No|             1|        Urban|medium|                 Y|\n",
      "|      LP001003|  Male|    Yes|         1|    Graduate|           No|             1|        Rural|medium|                 N|\n",
      "|      LP001005|  Male|    Yes|         0|    Graduate|          Yes|             1|        Urban|   low|                 Y|\n",
      "|      LP001006|  Male|    Yes|         0|Not Graduate|           No|             1|        Urban|   low|                 Y|\n",
      "|      LP001008|  Male|     No|         0|    Graduate|           No|             1|        Urban|medium|                 Y|\n",
      "+--------------+------+-------+----------+------------+-------------+--------------+-------------+------+------------------+\n",
      "only showing top 5 rows\n",
      "\n"
     ]
    }
   ],
   "source": [
    "spdf_loan=spark.createDataFrame(df_loan)\n",
    "spdf_loan.show(5)"
   ]
  },
  {
   "cell_type": "code",
   "execution_count": 6,
   "metadata": {},
   "outputs": [
    {
     "name": "stdout",
     "output_type": "stream",
     "text": [
      "root\n",
      " |-- Application_ID: string (nullable = true)\n",
      " |-- Gender: string (nullable = true)\n",
      " |-- Married: string (nullable = true)\n",
      " |-- Dependents: string (nullable = true)\n",
      " |-- Education: string (nullable = true)\n",
      " |-- Self_Employed: string (nullable = true)\n",
      " |-- Credit_History: long (nullable = true)\n",
      " |-- Property_Area: string (nullable = true)\n",
      " |-- Income: string (nullable = true)\n",
      " |-- Application_Status: string (nullable = true)\n",
      "\n"
     ]
    }
   ],
   "source": [
    "spdf_loan.printSchema()"
   ]
  },
  {
   "cell_type": "code",
   "execution_count": 7,
   "metadata": {},
   "outputs": [],
   "source": [
    "spdf_loan.write.format(\"jdbc\") \\\n",
    "  .mode(\"append\") \\\n",
    "  .option(\"url\", \"jdbc:mysql://localhost:3306/creditcard_capstone\") \\\n",
    "  .option(\"dbtable\", \"CDW_SAPP_loan_application\") \\\n",
    "  .option(\"user\", \"root\") \\\n",
    "  .option(\"password\", \"password\") \\\n",
    "  .save()\n"
   ]
  },
  {
   "attachments": {},
   "cell_type": "markdown",
   "metadata": {},
   "source": [
    "Find and plot the percentage of applications approved for self-employed applicants."
   ]
  },
  {
   "cell_type": "code",
   "execution_count": 8,
   "metadata": {},
   "outputs": [
    {
     "name": "stdout",
     "output_type": "stream",
     "text": [
      "+-------------+-------+\n",
      "|self_employed|Percent|\n",
      "+-------------+-------+\n",
      "|           No|  86.74|\n",
      "|          Yes|  13.26|\n",
      "+-------------+-------+\n",
      "\n"
     ]
    }
   ],
   "source": [
    "query = \"(SELECT self_employed, \\\n",
    "                (round(count(application_status)/(SELECT COUNT(Application_ID) FROM cdw_sapp_loan_application \\\n",
    "                WHERE application_status = 'Y')*100, 2) ) as Percent \\\n",
    "                FROM cdw_sapp_loan_application \\\n",
    "                WHERE Application_status = 'Y' \\\n",
    "                GROUP BY self_employed, application_status) as b\"\n",
    "\n",
    "sp_sql1 = spark.read.format(\"jdbc\") \\\n",
    "  .option(\"url\", \"jdbc:mysql://localhost:3306/creditcard_capstone\") \\\n",
    "  .option(\"user\", \"root\") \\\n",
    "  .option(\"password\", \"password\") \\\n",
    "  .option(\"dbtable\", query) \\\n",
    "  .load()\n",
    "\n",
    "sp_sql1.show()\n",
    "sploanDF=sp_sql1.toPandas()\n",
    "# pd_sql1.reset_index(inplace=True)\n",
    "sploanDF['Percent'] = sploanDF['Percent'].astype('float')\n",
    "sploanDF.plot(kind='bar', x='self_employed', y='Percent', figsize=(8,8))\n",
    "plt.title('The percentage of applications approved for self-employed applicants')\n",
    "plt.xlabel('Self-Employed')\n",
    "plt.ylabel('Percentage of Applications')\n",
    "plt.show()\n"
   ]
  },
  {
   "attachments": {},
   "cell_type": "markdown",
   "metadata": {},
   "source": [
    "2.Find the percentage of rejection for married male applicants."
   ]
  },
  {
   "cell_type": "code",
   "execution_count": 11,
   "metadata": {},
   "outputs": [
    {
     "name": "stdout",
     "output_type": "stream",
     "text": [
      "+------------------+------------------+-------+\n",
      "|application_status|count_applications|Percent|\n",
      "+------------------+------------------+-------+\n",
      "|                 N|               174|  28.43|\n",
      "|                 Y|               438|  71.57|\n",
      "+------------------+------------------+-------+\n",
      "\n"
     ]
    }
   ],
   "source": [
    "query2 = \"(SELECT application_status, COUNT(application_status) AS count_applications, \\\n",
    "\t\t(round(count(application_status)/(SELECT COUNT(*) FROM cdw_sapp_loan_application \\\n",
    "\t\tWHERE Gender = 'Male' AND Married = 'Yes' )*100,2)) AS Percent \\\n",
    "\t\tFROM cdw_sapp_loan_application \\\n",
    "\t\tWHERE Gender = 'Male' AND Married = 'Yes' \\\n",
    "\t\tGROUP BY application_status) as a\"\n",
    "\n",
    "sp_sql2 = spark.read.format(\"jdbc\") \\\n",
    "  .option(\"url\", \"jdbc:mysql://localhost:3306/creditcard_capstone\") \\\n",
    "  .option(\"user\", \"root\") \\\n",
    "  .option(\"password\", \"password\") \\\n",
    "  .option(\"dbtable\", query2) \\\n",
    "  .load()\n",
    "\n",
    "sp_sql2.show()\n",
    "pd_sql2 = sp_sql2.toPandas()\n",
    "# pd_sql1.reset_index(inplace=True)\n",
    "pd_sql2['Percent'] = pd_sql2['Percent'].astype('float')\n",
    "pd_sql2.plot(kind='bar', x='application_status', y='Percent', figsize=(8,5))\n",
    "plt.title('The percentage of Applicants rejected/approved')\n",
    "plt.xlabel('Application Status')\n",
    "plt.ylabel('Percentage of Married Male Applicants')\n",
    "plt.show()\n"
   ]
  },
  {
   "attachments": {},
   "cell_type": "markdown",
   "metadata": {},
   "source": [
    "3.Find and plot the top three months with the largest transaction data."
   ]
  },
  {
   "cell_type": "code",
   "execution_count": 15,
   "metadata": {},
   "outputs": [
    {
     "name": "stdout",
     "output_type": "stream",
     "text": [
      "+--------+-----------------+\n",
      "|   Month|Transaction_value|\n",
      "+--------+-----------------+\n",
      "| October|        405167.78|\n",
      "|     May|        402620.52|\n",
      "|December|        402502.16|\n",
      "+--------+-----------------+\n",
      "\n"
     ]
    },
    {
     "data": {
      "image/png": "[encoded data removed]",
      "text/plain": [
       "<Figure size 800x500 with 1 Axes>"
      ]
     },
     "metadata": {},
     "output_type": "display_data"
    }
   ],
   "source": [
    "query3 = \"(SELECT MONTHNAME(timeid) AS Month, round(sum(TRANSACTION_value),2) AS Transaction_value \\\n",
    "            FROM cdw_sapp_credit_card \\\n",
    "            GROUP BY substr(timeid,1,6) \\\n",
    "            ORDER BY sum(TRANSACTION_value) DESC \\\n",
    "            LIMIT 3) as a\"\n",
    "\n",
    "sp_sql3 = spark.read.format(\"jdbc\") \\\n",
    "  .option(\"url\", \"jdbc:mysql://localhost:3306/creditcard_capstone\") \\\n",
    "  .option(\"user\", \"root\") \\\n",
    "  .option(\"password\", \"password\") \\\n",
    "  .option(\"dbtable\", query3) \\\n",
    "  .load()\n",
    "\n",
    "sp_sql3.show()\n",
    "pd_sql3 = sp_sql3.toPandas()\n",
    "\n",
    "pd_sql3.plot(kind='line', x='Month', y='Transaction_value', figsize=(8,5))\n",
    "plt.title(' transactions by month')\n",
    "plt.ylabel('Total Transaction Value')\n",
    "plt.xlabel('Month')\n",
    "plt.show()\n"
   ]
  },
  {
   "attachments": {},
   "cell_type": "markdown",
   "metadata": {},
   "source": [
    "Find and plot which branch processed the highest total dollar value of healthcare transactions.\n"
   ]
  },
  {
   "cell_type": "code",
   "execution_count": 14,
   "metadata": {},
   "outputs": [
    {
     "data": {
      "image/png": "[encoded data removed]",
      "text/plain": [
       "<Figure size 800x500 with 1 Axes>"
      ]
     },
     "metadata": {},
     "output_type": "display_data"
    }
   ],
   "source": [
    "\n",
    "query4 = \"(SELECT branch_code, round(SUM(transaction_value),2) AS Total_Transaction_Value  \\\n",
    "            FROM cdw_sapp_credit_card \\\n",
    "            WHERE transaction_type = 'Healthcare'\\\n",
    "            group by branch_code \\\n",
    "            ORDER BY SUM(transaction_value) DESC \\\n",
    "            LIMIT 5) as a\"\n",
    "\n",
    "sp_sql4 = spark.read.format(\"jdbc\") \\\n",
    "  .option(\"url\", \"jdbc:mysql://localhost:3306/creditcard_capstone\") \\\n",
    "  .option(\"user\", \"root\") \\\n",
    "  .option(\"password\", \"password\") \\\n",
    "  .option(\"dbtable\", query4) \\\n",
    "  .load()\n",
    "#sp_sql4.show()\n",
    "\n",
    "pd_sql4 = sp_sql4.toPandas()\n",
    "pd_sql4['Transaction_value'] = pd_sql4['Total_Transaction_Value'].astype('float')\n",
    "pd_sql4.plot(kind='bar', x='branch_code', y='Total_Transaction_Value', figsize=(8,5))\n",
    "plt.title('highest total dollar value of healthcare transactions by Branch code')\n",
    "plt.ylabel('Total Transaction Value')\n",
    "plt.xlabel('branch Code')\n",
    "plt.show()\n"
   ]
  }
 ],
 "metadata": {
  "kernelspec": {
   "display_name": "cap_env",
   "language": "python",
   "name": "python3"
  },
  "language_info": {
   "codemirror_mode": {
    "name": "ipython",
    "version": 3
   },
   "file_extension": ".py",
   "mimetype": "text/x-python",
   "name": "python",
   "nbconvert_exporter": "python",
   "pygments_lexer": "ipython3",
   "version": "3.10.9"
  },
  "orig_nbformat": 4,
  "vscode": {
   "interpreter": {
    "hash": "2441f423e655f8ac22724ab14a14cbf8121ca37602ec5c04779105a54ef9436a"
   }
  }
 },
 "nbformat": 4,
 "nbformat_minor": 2
}
