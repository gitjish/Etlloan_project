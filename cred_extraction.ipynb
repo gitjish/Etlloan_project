{
 "cells": [
  {
   "cell_type": "code",
   "execution_count": 16,
   "metadata": {},
   "outputs": [],
   "source": [
    "import findspark\n",
    "findspark.init()\n",
    "\n",
    "from pyspark.sql import SparkSession\n",
    "from pyspark.sql.functions import*\n",
    "\n",
    "from pyspark.sql.types import StructType, StructField, StringType, IntegerType, BooleanType, DoubleType"
   ]
  },
  {
   "cell_type": "code",
   "execution_count": 17,
   "metadata": {},
   "outputs": [],
   "source": [
    "# 2. Initializing SparkSession\n",
    "\n",
    "spark = SparkSession.builder.appName('creditinfo1').getOrCreate()"
   ]
  },
  {
   "cell_type": "code",
   "execution_count": 18,
   "metadata": {},
   "outputs": [],
   "source": [
    "df_credit = spark.read.json(\"cdw_sapp_credit.json\")\n"
   ]
  },
  {
   "cell_type": "code",
   "execution_count": 19,
   "metadata": {},
   "outputs": [
    {
     "name": "stdout",
     "output_type": "stream",
     "text": [
      "+-----------+----------------+---------+---+-----+--------------+----------------+-----------------+----+\n",
      "|BRANCH_CODE|  CREDIT_CARD_NO| CUST_SSN|DAY|MONTH|TRANSACTION_ID|TRANSACTION_TYPE|TRANSACTION_VALUE|YEAR|\n",
      "+-----------+----------------+---------+---+-----+--------------+----------------+-----------------+----+\n",
      "|        114|4210653349028689|123459988| 14|    2|             1|       Education|             78.9|2018|\n",
      "|         35|4210653349028689|123459988| 20|    3|             2|   Entertainment|            14.24|2018|\n",
      "|        160|4210653349028689|123459988|  8|    7|             3|         Grocery|             56.7|2018|\n",
      "|        114|4210653349028689|123459988| 19|    4|             4|   Entertainment|            59.73|2018|\n",
      "|         93|4210653349028689|123459988| 10|   10|             5|             Gas|             3.59|2018|\n",
      "|        164|4210653349028689|123459988| 28|    5|             6|       Education|             6.89|2018|\n",
      "|        119|4210653349028689|123459988| 19|    5|             7|   Entertainment|            43.39|2018|\n",
      "|         23|4210653349028689|123459988|  8|    8|             8|             Gas|            95.39|2018|\n",
      "|        166|4210653349028689|123459988| 18|    3|             9|   Entertainment|            93.26|2018|\n",
      "|         83|4210653349028689|123459988|  3|    9|            10|           Bills|           100.38|2018|\n",
      "|         52|4210653349028689|123459988| 21|    8|            11|             Gas|            98.75|2018|\n",
      "|         17|4210653349028689|123459988| 24|   12|            12|             Gas|            42.71|2018|\n",
      "|         80|4210653349028689|123459988|  3|    4|            13|         Grocery|            40.24|2018|\n",
      "|         50|4210653349028689|123459988| 15|    4|            14|           Bills|            17.81|2018|\n",
      "|        123|4210653349028689|123459988| 17|    5|            15|           Bills|             29.0|2018|\n",
      "|          9|4210653349028689|123459988|  6|    7|            16|            Test|            70.63|2018|\n",
      "|          3|4210653349028689|123459988| 28|    9|            17|            Test|            27.04|2018|\n",
      "|        135|4210653349028689|123459988|  4|    7|            18|   Entertainment|            88.75|2018|\n",
      "|        103|4210653349028689|123459988| 24|    4|            19|            Test|            77.02|2018|\n",
      "|         78|4210653349028689|123459988|  8|   10|            20|           Bills|            34.34|2018|\n",
      "+-----------+----------------+---------+---+-----+--------------+----------------+-----------------+----+\n",
      "only showing top 20 rows\n",
      "\n"
     ]
    }
   ],
   "source": [
    "df_credit.show()"
   ]
  },
  {
   "cell_type": "code",
   "execution_count": 20,
   "metadata": {},
   "outputs": [
    {
     "name": "stdout",
     "output_type": "stream",
     "text": [
      "root\n",
      " |-- BRANCH_CODE: long (nullable = true)\n",
      " |-- CREDIT_CARD_NO: string (nullable = true)\n",
      " |-- CUST_SSN: long (nullable = true)\n",
      " |-- DAY: string (nullable = true)\n",
      " |-- MONTH: string (nullable = true)\n",
      " |-- TRANSACTION_ID: long (nullable = true)\n",
      " |-- TRANSACTION_TYPE: string (nullable = true)\n",
      " |-- TRANSACTION_VALUE: double (nullable = true)\n",
      " |-- YEAR: string (nullable = true)\n",
      "\n"
     ]
    }
   ],
   "source": [
    "df_credit = df_credit.withColumn('YEAR', df_credit['YEAR'].cast('string'))\n",
    "df_credit = df_credit.withColumn('MONTH', lpad(df_credit['MONTH'], 2, '0'))\n",
    "df_credit = df_credit.withColumn('DAY', lpad(df_credit['DAY'], 2, '0'))\n",
    "\n",
    "# df_cust = df_cust.select(df_cust['CUST_PHONE'].cast('string'))\n",
    "df_credit.printSchema()"
   ]
  },
  {
   "cell_type": "code",
   "execution_count": 21,
   "metadata": {},
   "outputs": [],
   "source": [
    "df_credit = df_credit.withColumn('TIMEID', concat(df_credit['YEAR'],df_credit['MONTH'],df_credit['DAY']))\n"
   ]
  },
  {
   "cell_type": "code",
   "execution_count": 22,
   "metadata": {},
   "outputs": [
    {
     "name": "stdout",
     "output_type": "stream",
     "text": [
      "+-----------+----------------+---------+---+-----+--------------+----------------+-----------------+----+--------+\n",
      "|BRANCH_CODE|  CREDIT_CARD_NO| CUST_SSN|DAY|MONTH|TRANSACTION_ID|TRANSACTION_TYPE|TRANSACTION_VALUE|YEAR|  TIMEID|\n",
      "+-----------+----------------+---------+---+-----+--------------+----------------+-----------------+----+--------+\n",
      "|        114|4210653349028689|123459988| 14|   02|             1|       Education|             78.9|2018|20180214|\n",
      "|         35|4210653349028689|123459988| 20|   03|             2|   Entertainment|            14.24|2018|20180320|\n",
      "|        160|4210653349028689|123459988| 08|   07|             3|         Grocery|             56.7|2018|20180708|\n",
      "|        114|4210653349028689|123459988| 19|   04|             4|   Entertainment|            59.73|2018|20180419|\n",
      "|         93|4210653349028689|123459988| 10|   10|             5|             Gas|             3.59|2018|20181010|\n",
      "|        164|4210653349028689|123459988| 28|   05|             6|       Education|             6.89|2018|20180528|\n",
      "|        119|4210653349028689|123459988| 19|   05|             7|   Entertainment|            43.39|2018|20180519|\n",
      "|         23|4210653349028689|123459988| 08|   08|             8|             Gas|            95.39|2018|20180808|\n",
      "|        166|4210653349028689|123459988| 18|   03|             9|   Entertainment|            93.26|2018|20180318|\n",
      "|         83|4210653349028689|123459988| 03|   09|            10|           Bills|           100.38|2018|20180903|\n",
      "|         52|4210653349028689|123459988| 21|   08|            11|             Gas|            98.75|2018|20180821|\n",
      "|         17|4210653349028689|123459988| 24|   12|            12|             Gas|            42.71|2018|20181224|\n",
      "|         80|4210653349028689|123459988| 03|   04|            13|         Grocery|            40.24|2018|20180403|\n",
      "|         50|4210653349028689|123459988| 15|   04|            14|           Bills|            17.81|2018|20180415|\n",
      "|        123|4210653349028689|123459988| 17|   05|            15|           Bills|             29.0|2018|20180517|\n",
      "|          9|4210653349028689|123459988| 06|   07|            16|            Test|            70.63|2018|20180706|\n",
      "|          3|4210653349028689|123459988| 28|   09|            17|            Test|            27.04|2018|20180928|\n",
      "|        135|4210653349028689|123459988| 04|   07|            18|   Entertainment|            88.75|2018|20180704|\n",
      "|        103|4210653349028689|123459988| 24|   04|            19|            Test|            77.02|2018|20180424|\n",
      "|         78|4210653349028689|123459988| 08|   10|            20|           Bills|            34.34|2018|20181008|\n",
      "+-----------+----------------+---------+---+-----+--------------+----------------+-----------------+----+--------+\n",
      "only showing top 20 rows\n",
      "\n"
     ]
    }
   ],
   "source": [
    "df_credit.show()"
   ]
  },
  {
   "cell_type": "code",
   "execution_count": 23,
   "metadata": {},
   "outputs": [
    {
     "name": "stdout",
     "output_type": "stream",
     "text": [
      "+-----------+----------------+---------+--------------+----------------+-----------------+--------+\n",
      "|BRANCH_CODE|  CREDIT_CARD_NO| CUST_SSN|TRANSACTION_ID|TRANSACTION_TYPE|TRANSACTION_VALUE|  TIMEID|\n",
      "+-----------+----------------+---------+--------------+----------------+-----------------+--------+\n",
      "|        114|4210653349028689|123459988|             1|       Education|             78.9|20180214|\n",
      "|         35|4210653349028689|123459988|             2|   Entertainment|            14.24|20180320|\n",
      "|        160|4210653349028689|123459988|             3|         Grocery|             56.7|20180708|\n",
      "|        114|4210653349028689|123459988|             4|   Entertainment|            59.73|20180419|\n",
      "|         93|4210653349028689|123459988|             5|             Gas|             3.59|20181010|\n",
      "|        164|4210653349028689|123459988|             6|       Education|             6.89|20180528|\n",
      "|        119|4210653349028689|123459988|             7|   Entertainment|            43.39|20180519|\n",
      "|         23|4210653349028689|123459988|             8|             Gas|            95.39|20180808|\n",
      "|        166|4210653349028689|123459988|             9|   Entertainment|            93.26|20180318|\n",
      "|         83|4210653349028689|123459988|            10|           Bills|           100.38|20180903|\n",
      "|         52|4210653349028689|123459988|            11|             Gas|            98.75|20180821|\n",
      "|         17|4210653349028689|123459988|            12|             Gas|            42.71|20181224|\n",
      "|         80|4210653349028689|123459988|            13|         Grocery|            40.24|20180403|\n",
      "|         50|4210653349028689|123459988|            14|           Bills|            17.81|20180415|\n",
      "|        123|4210653349028689|123459988|            15|           Bills|             29.0|20180517|\n",
      "|          9|4210653349028689|123459988|            16|            Test|            70.63|20180706|\n",
      "|          3|4210653349028689|123459988|            17|            Test|            27.04|20180928|\n",
      "|        135|4210653349028689|123459988|            18|   Entertainment|            88.75|20180704|\n",
      "|        103|4210653349028689|123459988|            19|            Test|            77.02|20180424|\n",
      "|         78|4210653349028689|123459988|            20|           Bills|            34.34|20181008|\n",
      "+-----------+----------------+---------+--------------+----------------+-----------------+--------+\n",
      "only showing top 20 rows\n",
      "\n"
     ]
    }
   ],
   "source": [
    "df_credit = df_credit.drop('DAY','MONTH','YEAR')\n",
    "df_credit.show()"
   ]
  },
  {
   "cell_type": "code",
   "execution_count": 24,
   "metadata": {},
   "outputs": [],
   "source": [
    "df_credit = df_credit.withColumnRenamed('CREDIT_CARD_NO','CUST_CC_NO')\n",
    "\n"
   ]
  },
  {
   "cell_type": "code",
   "execution_count": 25,
   "metadata": {},
   "outputs": [],
   "source": [
    "df_credit.write.format(\"jdbc\") \\\n",
    "  .mode(\"append\") \\\n",
    "  .option(\"url\", \"jdbc:mysql://localhost:3306/creditcard_capstone\") \\\n",
    "  .option(\"dbtable\", \"CDW_SAPP_CREDIT_CARD\") \\\n",
    "  .option(\"user\", \"root\") \\\n",
    "  .option(\"password\", \"password\") \\\n",
    "  .save()\n",
    "\n",
    "               \n"
   ]
  },
  {
   "cell_type": "code",
   "execution_count": 26,
   "metadata": {},
   "outputs": [
    {
     "name": "stdout",
     "output_type": "stream",
     "text": [
      "+-----------+----------------+---------+--------------+----------------+-----------------+--------+\n",
      "|BRANCH_CODE|      CUST_CC_NO| CUST_SSN|TRANSACTION_ID|TRANSACTION_TYPE|TRANSACTION_VALUE|  TIMEID|\n",
      "+-----------+----------------+---------+--------------+----------------+-----------------+--------+\n",
      "|        156|4210653312478046|123455692|         22562|         Grocery|            91.08|20180813|\n",
      "|        180|4210653342242023|123451310|         45069|           Bills|            77.79|20180315|\n",
      "|        114|4210653349028689|123459988|             1|       Education|             78.9|20180214|\n",
      "|        107|4210653342242023|123451310|         45070|      Healthcare|            20.47|20180419|\n",
      "|         35|4210653349028689|123459988|             2|   Entertainment|            14.24|20180320|\n",
      "|        114|4210653312478046|123455692|         22563|           Bills|             22.2|20180626|\n",
      "|         47|4210653312478046|123455692|         22564|         Grocery|            77.54|20180320|\n",
      "|         58|4210653342242023|123451310|         45071|      Healthcare|             1.61|20180628|\n",
      "|        160|4210653349028689|123459988|             3|         Grocery|             56.7|20180708|\n",
      "|         85|4210653342242023|123451310|         45072|             Gas|            73.86|20180306|\n",
      "|         17|4210653312478046|123455692|         22565|             Gas|            84.05|20180708|\n",
      "|        114|4210653349028689|123459988|             4|   Entertainment|            59.73|20180419|\n",
      "|        123|4210653342242023|123451310|         45073|      Healthcare|             28.4|20180816|\n",
      "|        135|4210653312478046|123455692|         22566|   Entertainment|             99.0|20181018|\n",
      "|         93|4210653349028689|123459988|             5|             Gas|             3.59|20181010|\n",
      "|        109|4210653312478046|123455692|         22567|       Education|            59.86|20180909|\n",
      "|        124|4210653342242023|123451310|         45074|       Education|            55.39|20181201|\n",
      "|        164|4210653349028689|123459988|             6|       Education|             6.89|20180528|\n",
      "|         26|4210653312478046|123455692|         22568|            Test|            56.12|20180412|\n",
      "|         30|4210653342242023|123451310|         45075|             Gas|            22.99|20180618|\n",
      "+-----------+----------------+---------+--------------+----------------+-----------------+--------+\n",
      "only showing top 20 rows\n",
      "\n"
     ]
    }
   ],
   "source": [
    "df_new = spark.read.format(\"jdbc\") \\\n",
    "  .option(\"url\", \"jdbc:mysql://localhost:3306/creditcard_capstone\") \\\n",
    "  .option(\"dbtable\", \"CDW_SAPP_CREDIT_CARD\") \\\n",
    "  .option(\"user\", \"root\") \\\n",
    "  .option(\"password\", \"password\") \\\n",
    "  .load()\n",
    "\n",
    "df_new.show()\n"
   ]
  },
  {
   "cell_type": "code",
   "execution_count": 27,
   "metadata": {},
   "outputs": [],
   "source": [
    "df=df_new.toPandas()"
   ]
  },
  {
   "cell_type": "code",
   "execution_count": 29,
   "metadata": {},
   "outputs": [
    {
     "data": {
      "text/html": [
       "<div>\n",
       "<style scoped>\n",
       "    .dataframe tbody tr th:only-of-type {\n",
       "        vertical-align: middle;\n",
       "    }\n",
       "\n",
       "    .dataframe tbody tr th {\n",
       "        vertical-align: top;\n",
       "    }\n",
       "\n",
       "    .dataframe thead th {\n",
       "        text-align: right;\n",
       "    }\n",
       "</style>\n",
       "<table border=\"1\" class=\"dataframe\">\n",
       "  <thead>\n",
       "    <tr style=\"text-align: right;\">\n",
       "      <th></th>\n",
       "      <th>BRANCH_CODE</th>\n",
       "      <th>CUST_CC_NO</th>\n",
       "      <th>CUST_SSN</th>\n",
       "      <th>TRANSACTION_ID</th>\n",
       "      <th>TRANSACTION_TYPE</th>\n",
       "      <th>TRANSACTION_VALUE</th>\n",
       "      <th>TIMEID</th>\n",
       "    </tr>\n",
       "  </thead>\n",
       "  <tbody>\n",
       "    <tr>\n",
       "      <th>0</th>\n",
       "      <td>156</td>\n",
       "      <td>4210653312478046</td>\n",
       "      <td>123455692</td>\n",
       "      <td>22562</td>\n",
       "      <td>Grocery</td>\n",
       "      <td>91.08</td>\n",
       "      <td>20180813</td>\n",
       "    </tr>\n",
       "    <tr>\n",
       "      <th>1</th>\n",
       "      <td>180</td>\n",
       "      <td>4210653342242023</td>\n",
       "      <td>123451310</td>\n",
       "      <td>45069</td>\n",
       "      <td>Bills</td>\n",
       "      <td>77.79</td>\n",
       "      <td>20180315</td>\n",
       "    </tr>\n",
       "    <tr>\n",
       "      <th>2</th>\n",
       "      <td>114</td>\n",
       "      <td>4210653349028689</td>\n",
       "      <td>123459988</td>\n",
       "      <td>1</td>\n",
       "      <td>Education</td>\n",
       "      <td>78.90</td>\n",
       "      <td>20180214</td>\n",
       "    </tr>\n",
       "    <tr>\n",
       "      <th>3</th>\n",
       "      <td>107</td>\n",
       "      <td>4210653342242023</td>\n",
       "      <td>123451310</td>\n",
       "      <td>45070</td>\n",
       "      <td>Healthcare</td>\n",
       "      <td>20.47</td>\n",
       "      <td>20180419</td>\n",
       "    </tr>\n",
       "    <tr>\n",
       "      <th>4</th>\n",
       "      <td>35</td>\n",
       "      <td>4210653349028689</td>\n",
       "      <td>123459988</td>\n",
       "      <td>2</td>\n",
       "      <td>Entertainment</td>\n",
       "      <td>14.24</td>\n",
       "      <td>20180320</td>\n",
       "    </tr>\n",
       "  </tbody>\n",
       "</table>\n",
       "</div>"
      ],
      "text/plain": [
       "   BRANCH_CODE        CUST_CC_NO   CUST_SSN  TRANSACTION_ID TRANSACTION_TYPE  \\\n",
       "0          156  4210653312478046  123455692           22562          Grocery   \n",
       "1          180  4210653342242023  123451310           45069            Bills   \n",
       "2          114  4210653349028689  123459988               1        Education   \n",
       "3          107  4210653342242023  123451310           45070       Healthcare   \n",
       "4           35  4210653349028689  123459988               2    Entertainment   \n",
       "\n",
       "   TRANSACTION_VALUE    TIMEID  \n",
       "0              91.08  20180813  \n",
       "1              77.79  20180315  \n",
       "2              78.90  20180214  \n",
       "3              20.47  20180419  \n",
       "4              14.24  20180320  "
      ]
     },
     "execution_count": 29,
     "metadata": {},
     "output_type": "execute_result"
    }
   ],
   "source": [
    "df.head()"
   ]
  },
  {
   "cell_type": "code",
   "execution_count": 28,
   "metadata": {},
   "outputs": [
    {
     "name": "stderr",
     "output_type": "stream",
     "text": [
      "C:\\Users\\12242\\AppData\\Local\\Temp\\ipykernel_5788\\2880210620.py:1: FutureWarning: The default value of numeric_only in DataFrameGroupBy.sum is deprecated. In a future version, numeric_only will default to False. Either specify numeric_only or select only columns which should be valid for the function.\n",
      "  df1 = df[['TRANSACTION_TYPE', 'TRANSACTION_VALUE']].groupby(df['TRANSACTION_TYPE']).sum()\n"
     ]
    }
   ],
   "source": [
    "df1 = df[['TRANSACTION_TYPE', 'TRANSACTION_VALUE']].groupby(df['TRANSACTION_TYPE']).sum()\n",
    "#df1.reset_index(inplace=True)\n"
   ]
  },
  {
   "cell_type": "code",
   "execution_count": 30,
   "metadata": {},
   "outputs": [],
   "source": [
    "import matplotlib.pyplot as plt"
   ]
  },
  {
   "cell_type": "code",
   "execution_count": 31,
   "metadata": {},
   "outputs": [
    {
     "data": {
      "image/png": "[encoded data removed]",
      "text/plain": [
       "<Figure size 1000x600 with 1 Axes>"
      ]
     },
     "metadata": {},
     "output_type": "display_data"
    }
   ],
   "source": [
    "df1.plot(kind='bar', x='TRANSACTION_TYPE', y='TRANSACTION_VALUE',figsize=(10,6))\n",
    "plt.title('Transaction Counts by Type')\n",
    "plt.xlabel('Transaction Type')\n",
    "plt.ylabel('Transaction Count')\n",
    "plt.show()"
   ]
  }
 ],
 "metadata": {
  "kernelspec": {
   "display_name": "cap_env",
   "language": "python",
   "name": "python3"
  },
  "language_info": {
   "codemirror_mode": {
    "name": "ipython",
    "version": 3
   },
   "file_extension": ".py",
   "mimetype": "text/x-python",
   "name": "python",
   "nbconvert_exporter": "python",
   "pygments_lexer": "ipython3",
   "version": "3.10.9"
  },
  "orig_nbformat": 4,
  "vscode": {
   "interpreter": {
    "hash": "2441f423e655f8ac22724ab14a14cbf8121ca37602ec5c04779105a54ef9436a"
   }
  }
 },
 "nbformat": 4,
 "nbformat_minor": 2
}
