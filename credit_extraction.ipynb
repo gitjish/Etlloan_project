{
 "cells": [
  {
   "cell_type": "code",
   "execution_count": 2,
   "metadata": {},
   "outputs": [],
   "source": [
    "import findspark\n",
    "findspark.init()\n",
    "\n",
    "from pyspark.sql import SparkSession\n",
    "from pyspark.sql.functions import*\n",
    "\n",
    "from pyspark.sql.types import StructType, StructField, StringType, IntegerType, BooleanType, DoubleType"
   ]
  },
  {
   "cell_type": "code",
   "execution_count": 3,
   "metadata": {},
   "outputs": [],
   "source": [
    "# 2. Initializing SparkSession\n",
    "\n",
    "spark = SparkSession.builder.appName('creditinfo').getOrCreate()"
   ]
  },
  {
   "cell_type": "code",
   "execution_count": 4,
   "metadata": {},
   "outputs": [],
   "source": [
    "df_customer = spark.read.json(\"cdw_sapp_custmer.json\")\n"
   ]
  },
  {
   "cell_type": "code",
   "execution_count": 5,
   "metadata": {},
   "outputs": [
    {
     "name": "stdout",
     "output_type": "stream",
     "text": [
      "root\n",
      " |-- APT_NO: string (nullable = true)\n",
      " |-- CREDIT_CARD_NO: string (nullable = true)\n",
      " |-- CUST_CITY: string (nullable = true)\n",
      " |-- CUST_COUNTRY: string (nullable = true)\n",
      " |-- CUST_EMAIL: string (nullable = true)\n",
      " |-- CUST_PHONE: long (nullable = true)\n",
      " |-- CUST_STATE: string (nullable = true)\n",
      " |-- CUST_ZIP: string (nullable = true)\n",
      " |-- FIRST_NAME: string (nullable = true)\n",
      " |-- LAST_NAME: string (nullable = true)\n",
      " |-- LAST_UPDATED: string (nullable = true)\n",
      " |-- MIDDLE_NAME: string (nullable = true)\n",
      " |-- SSN: long (nullable = true)\n",
      " |-- STREET_NAME: string (nullable = true)\n",
      "\n"
     ]
    }
   ],
   "source": [
    "df_customer.printSchema()"
   ]
  },
  {
   "cell_type": "code",
   "execution_count": 6,
   "metadata": {},
   "outputs": [],
   "source": [
    "df_credit = spark.read.json(\"cdw_sapp_credit.json\")\n"
   ]
  },
  {
   "cell_type": "code",
   "execution_count": 7,
   "metadata": {},
   "outputs": [
    {
     "name": "stdout",
     "output_type": "stream",
     "text": [
      "root\n",
      " |-- BRANCH_CODE: long (nullable = true)\n",
      " |-- CREDIT_CARD_NO: string (nullable = true)\n",
      " |-- CUST_SSN: long (nullable = true)\n",
      " |-- DAY: long (nullable = true)\n",
      " |-- MONTH: long (nullable = true)\n",
      " |-- TRANSACTION_ID: long (nullable = true)\n",
      " |-- TRANSACTION_TYPE: string (nullable = true)\n",
      " |-- TRANSACTION_VALUE: double (nullable = true)\n",
      " |-- YEAR: long (nullable = true)\n",
      "\n"
     ]
    }
   ],
   "source": [
    "df_credit.printSchema()"
   ]
  },
  {
   "cell_type": "code",
   "execution_count": 8,
   "metadata": {},
   "outputs": [],
   "source": [
    "df_branch = spark.read.json(\"cdw_sapp_branch.json\")\n"
   ]
  },
  {
   "cell_type": "code",
   "execution_count": 9,
   "metadata": {},
   "outputs": [
    {
     "name": "stdout",
     "output_type": "stream",
     "text": [
      "root\n",
      " |-- BRANCH_CITY: string (nullable = true)\n",
      " |-- BRANCH_CODE: long (nullable = true)\n",
      " |-- BRANCH_NAME: string (nullable = true)\n",
      " |-- BRANCH_PHONE: string (nullable = true)\n",
      " |-- BRANCH_STATE: string (nullable = true)\n",
      " |-- BRANCH_STREET: string (nullable = true)\n",
      " |-- BRANCH_ZIP: long (nullable = true)\n",
      " |-- LAST_UPDATED: string (nullable = true)\n",
      "\n"
     ]
    }
   ],
   "source": [
    "df_branch.printSchema()"
   ]
  },
  {
   "cell_type": "code",
   "execution_count": 10,
   "metadata": {},
   "outputs": [
    {
     "name": "stdout",
     "output_type": "stream",
     "text": [
      "+-----------------+-----------+------------+------------+------------+-----------------+----------+--------------------+\n",
      "|      BRANCH_CITY|BRANCH_CODE| BRANCH_NAME|BRANCH_PHONE|BRANCH_STATE|    BRANCH_STREET|BRANCH_ZIP|        LAST_UPDATED|\n",
      "+-----------------+-----------+------------+------------+------------+-----------------+----------+--------------------+\n",
      "|        Lakeville|          1|Example Bank|  1234565276|          MN|     Bridle Court|     55044|2018-04-18T16:51:...|\n",
      "|          Huntley|          2|Example Bank|  1234618993|          IL|Washington Street|     60142|2018-04-18T16:51:...|\n",
      "|SouthRichmondHill|          3|Example Bank|  1234985926|          NY|    Warren Street|     11419|2018-04-18T16:51:...|\n",
      "|       Middleburg|          4|Example Bank|  1234663064|          FL| Cleveland Street|     32068|2018-04-18T16:51:...|\n",
      "|    KingOfPrussia|          5|Example Bank|  1234849701|          PA|      14th Street|     19406|2018-04-18T16:51:...|\n",
      "+-----------------+-----------+------------+------------+------------+-----------------+----------+--------------------+\n",
      "only showing top 5 rows\n",
      "\n"
     ]
    }
   ],
   "source": [
    "df_branch.show(5)"
   ]
  },
  {
   "cell_type": "code",
   "execution_count": null,
   "metadata": {},
   "outputs": [],
   "source": []
  },
  {
   "attachments": {},
   "cell_type": "markdown",
   "metadata": {},
   "source": [
    "df.withColumn(\"species\", initcap(col('species'))\n",
    "df = spark.createDataFrame([('100-200',)], ['str'])\n",
    "df.select(regexp_replace('str', r'(\\d+)', '--').alias('d')).collect()\n",
    "[Row(d='-----')]\n"
   ]
  },
  {
   "cell_type": "code",
   "execution_count": 11,
   "metadata": {},
   "outputs": [
    {
     "name": "stdout",
     "output_type": "stream",
     "text": [
      "+------+----------------+------------+-------------+-------------------+----------+----------+--------+----------+---------+--------------------+-----------+---------+-----------------+\n",
      "|APT_NO|  CREDIT_CARD_NO|   CUST_CITY| CUST_COUNTRY|         CUST_EMAIL|CUST_PHONE|CUST_STATE|CUST_ZIP|FIRST_NAME|LAST_NAME|        LAST_UPDATED|MIDDLE_NAME|      SSN|      STREET_NAME|\n",
      "+------+----------------+------------+-------------+-------------------+----------+----------+--------+----------+---------+--------------------+-----------+---------+-----------------+\n",
      "|   656|4210653310061055|     Natchez|United States|AHooper@example.com|   1237818|        MS|   39120|      Alec|   Hooper|2018-04-21T12:49:...|         wm|123456100|Main Street North|\n",
      "|   829|4210653310102868|Wethersfield|United States|EHolman@example.com|   1238933|        CT|   06109|      Etta|   Holman|2018-04-21T12:49:...|    brendan|123453023|    Redwood Drive|\n",
      "|   683|4210653310116272|     Huntley|United States|WDunham@example.com|   1243018|        IL|   60142|    Wilber|   Dunham|2018-04-21T12:49:...|   ezequiel|123454487| 12th Street East|\n",
      "|   253|4210653310195948|   NewBerlin|United States| EHardy@example.com|   1243215|        WI|   53151|   Eugenio|    Hardy|2018-04-21T12:49:...|      trina|123459758|Country Club Road|\n",
      "|   301|4210653310356919|      ElPaso|United States| WAyers@example.com|   1242074|        TX|   79930|   Wilfred|    Ayers|2018-04-21T12:49:...|        may|123454431|   Madison Street|\n",
      "+------+----------------+------------+-------------+-------------------+----------+----------+--------+----------+---------+--------------------+-----------+---------+-----------------+\n",
      "only showing top 5 rows\n",
      "\n"
     ]
    }
   ],
   "source": [
    "df_cutomer=df_customer.withColumn('FIRST_NAME', initcap(df_customer.FIRST_NAME))\n",
    "\n",
    "df_customer = df_customer.withColumn('LAST_NAME', initcap(df_customer.LAST_NAME))\n",
    "df_customer = df_customer.withColumn('MIDDLE_NAME', lower(df_customer.MIDDLE_NAME))\n",
    "df_customer.show(5)"
   ]
  },
  {
   "cell_type": "code",
   "execution_count": 12,
   "metadata": {},
   "outputs": [
    {
     "name": "stdout",
     "output_type": "stream",
     "text": [
      "+--------------------+------+-----------------+\n",
      "| FULL_STREET_ADDRESS|APT_NO|      STREET_NAME|\n",
      "+--------------------+------+-----------------+\n",
      "|656, Main Street ...|   656|Main Street North|\n",
      "|  829, Redwood Drive|   829|    Redwood Drive|\n",
      "|683, 12th Street ...|   683| 12th Street East|\n",
      "|253, Country Club...|   253|Country Club Road|\n",
      "| 301, Madison Street|   301|   Madison Street|\n",
      "+--------------------+------+-----------------+\n",
      "only showing top 5 rows\n",
      "\n"
     ]
    }
   ],
   "source": [
    "df_customer=df_customer.withColumn('FULL_STREET_ADDRESS',concat(df_customer['APT_NO'],lit(', '),df_customer['STREET_NAME']))\n",
    "df_customer['FULL_STREET_ADDRESS', 'APT_NO', 'STREET_NAME'].show(5)\n",
    "#df_cust['FULL_STREET_ADDRESS', 'APT_NO', 'STREET_NAME'].show()\n"
   ]
  },
  {
   "cell_type": "code",
   "execution_count": 13,
   "metadata": {},
   "outputs": [
    {
     "name": "stdout",
     "output_type": "stream",
     "text": [
      "+----------------+------------+-------------+-------------------+----------+----------+--------+----------+---------+--------------------+-----------+---------+--------------------+\n",
      "|  CREDIT_CARD_NO|   CUST_CITY| CUST_COUNTRY|         CUST_EMAIL|CUST_PHONE|CUST_STATE|CUST_ZIP|FIRST_NAME|LAST_NAME|        LAST_UPDATED|MIDDLE_NAME|      SSN| FULL_STREET_ADDRESS|\n",
      "+----------------+------------+-------------+-------------------+----------+----------+--------+----------+---------+--------------------+-----------+---------+--------------------+\n",
      "|4210653310061055|     Natchez|United States|AHooper@example.com|   1237818|        MS|   39120|      Alec|   Hooper|2018-04-21T12:49:...|         wm|123456100|656, Main Street ...|\n",
      "|4210653310102868|Wethersfield|United States|EHolman@example.com|   1238933|        CT|   06109|      Etta|   Holman|2018-04-21T12:49:...|    brendan|123453023|  829, Redwood Drive|\n",
      "|4210653310116272|     Huntley|United States|WDunham@example.com|   1243018|        IL|   60142|    Wilber|   Dunham|2018-04-21T12:49:...|   ezequiel|123454487|683, 12th Street ...|\n",
      "|4210653310195948|   NewBerlin|United States| EHardy@example.com|   1243215|        WI|   53151|   Eugenio|    Hardy|2018-04-21T12:49:...|      trina|123459758|253, Country Club...|\n",
      "|4210653310356919|      ElPaso|United States| WAyers@example.com|   1242074|        TX|   79930|   Wilfred|    Ayers|2018-04-21T12:49:...|        may|123454431| 301, Madison Street|\n",
      "+----------------+------------+-------------+-------------------+----------+----------+--------+----------+---------+--------------------+-----------+---------+--------------------+\n",
      "only showing top 5 rows\n",
      "\n"
     ]
    }
   ],
   "source": [
    "df_customer = df_customer.drop('APT_NO', 'STREET_NAME')\n",
    "df_customer.show(5)"
   ]
  },
  {
   "cell_type": "code",
   "execution_count": 14,
   "metadata": {},
   "outputs": [
    {
     "name": "stdout",
     "output_type": "stream",
     "text": [
      "root\n",
      " |-- CREDIT_CARD_NO: string (nullable = true)\n",
      " |-- CUST_CITY: string (nullable = true)\n",
      " |-- CUST_COUNTRY: string (nullable = true)\n",
      " |-- CUST_EMAIL: string (nullable = true)\n",
      " |-- CUST_PHONE: string (nullable = true)\n",
      " |-- CUST_STATE: string (nullable = true)\n",
      " |-- CUST_ZIP: string (nullable = true)\n",
      " |-- FIRST_NAME: string (nullable = true)\n",
      " |-- LAST_NAME: string (nullable = true)\n",
      " |-- LAST_UPDATED: string (nullable = true)\n",
      " |-- MIDDLE_NAME: string (nullable = true)\n",
      " |-- SSN: long (nullable = true)\n",
      " |-- FULL_STREET_ADDRESS: string (nullable = true)\n",
      "\n"
     ]
    }
   ],
   "source": [
    "df_customer = df_customer.withColumn('CUST_PHONE', df_customer['CUST_PHONE'].cast('string'))\n",
    "# df_cust = df_cust.select(df_cust['CUST_PHONE'].cast('string'))\n",
    "df_customer.printSchema()\n"
   ]
  },
  {
   "cell_type": "code",
   "execution_count": 15,
   "metadata": {},
   "outputs": [
    {
     "name": "stdout",
     "output_type": "stream",
     "text": [
      "+----------------+------------+-------------+--------------------+-------------+----------+--------+----------+---------+--------------------+-----------+---------+--------------------+\n",
      "|  CREDIT_CARD_NO|   CUST_CITY| CUST_COUNTRY|          CUST_EMAIL|   CUST_PHONE|CUST_STATE|CUST_ZIP|FIRST_NAME|LAST_NAME|        LAST_UPDATED|MIDDLE_NAME|      SSN| FULL_STREET_ADDRESS|\n",
      "+----------------+------------+-------------+--------------------+-------------+----------+--------+----------+---------+--------------------+-----------+---------+--------------------+\n",
      "|4210653310061055|     Natchez|United States| AHooper@example.com|(224)123-7818|        MS|   39120|      Alec|   Hooper|2018-04-21T12:49:...|         wm|123456100|656, Main Street ...|\n",
      "|4210653310102868|Wethersfield|United States| EHolman@example.com|(224)123-8933|        CT|   06109|      Etta|   Holman|2018-04-21T12:49:...|    brendan|123453023|  829, Redwood Drive|\n",
      "|4210653310116272|     Huntley|United States| WDunham@example.com|(224)124-3018|        IL|   60142|    Wilber|   Dunham|2018-04-21T12:49:...|   ezequiel|123454487|683, 12th Street ...|\n",
      "|4210653310195948|   NewBerlin|United States|  EHardy@example.com|(224)124-3215|        WI|   53151|   Eugenio|    Hardy|2018-04-21T12:49:...|      trina|123459758|253, Country Club...|\n",
      "|4210653310356919|      ElPaso|United States|  WAyers@example.com|(224)124-2074|        TX|   79930|   Wilfred|    Ayers|2018-04-21T12:49:...|        may|123454431| 301, Madison Street|\n",
      "|4210653310395982|NorthOlmsted|United States|BWoodard@example.com|(224)124-2570|        OH|   44070|      Beau|  Woodard|2018-04-21T12:49:...|    ambrose|123454202|   3, Colonial Drive|\n",
      "|4210653310400536|      Vienna|United States|   SKemp@example.com|(224)123-9685|        VA|   22180|    Sheila|     Kemp|2018-04-21T12:49:...|      larry|123451799|  84, Belmont Avenue|\n",
      "|4210653310459911|      Duarte|United States| WHurley@example.com|(224)123-8213|        CA|   91010|     Wendy|   Hurley|2018-04-21T12:49:...|        ora|123453875|   728, Oxford Court|\n",
      "|4210653310773972|      Owosso|United States|AGilmore@example.com|(224)124-0689|        MI|   48867|      Alec|  Gilmore|2018-04-21T12:49:...|     tracie|123457511|   81, Forest Street|\n",
      "|4210653310794854|        Zion|United States|    BLau@example.com|(224)123-5222|        IL|   60099|    Barbra|      Lau|2018-04-21T12:49:...|    mitchel|123457464|   561, Court Street|\n",
      "|4210653310817373|  Youngstown|United States|EThomson@example.com|(224)124-1363|        OH|   44512|   Edmundo|  Thomson|2018-04-21T12:49:...|      denny|123457639|  622, Cypress Court|\n",
      "|4210653310844617| Summerville|United States| ETruong@example.com|(224)123-6228|        SC|   29483|      Elsa|   Truong|2018-04-21T12:49:...|   isabelle|123453242|924, 8th Street West|\n",
      "|4210653311015303|      ElPaso|United States|HMckinney@example...|(224)123-8165|        TX|   79930|     Homer| Mckinney|2018-04-21T12:49:...|      henry|123454339|    611, East Avenue|\n",
      "|4210653311215039|      Fenton|United States|   RKidd@example.com|(224)123-4730|        MI|   48430|      Rita|     Kidd|2018-04-21T12:49:...|     rickey|123454537|       680, Route 44|\n",
      "|4210653311229354|  Grandville|United States|ABallard@example.com|(224)124-2113|        MI|   49418|    Amalia|  Ballard|2018-04-21T12:49:...|  heriberto|123452373|   71, Warren Street|\n",
      "|4210653311652836|    YubaCity|United States| PThomas@example.com|(224)123-9888|        CA|   95993|     Patty|   Thomas|2018-04-21T12:49:...|   angelita|123455343|   195, Jones Street|\n",
      "|4210653311707126|   CapeCoral|United States| JMorrow@example.com|(224)124-0158|        FL|   33904|  Josefina|   Morrow|2018-04-21T12:49:...|   dorothea|123451533|     500, New Street|\n",
      "|4210653311730764|  Brookfield|United States|NAndrews@example.com|(224)124-1408|        WI|   53045|    Nelson|  Andrews|2018-04-21T12:49:...|  jefferson|123459278|989, Division Street|\n",
      "|4210653311898082|    Richmond|United States|MSchneider@exampl...|(224)123-8390|        VA|   23223|    Miquel|Schneider|2018-04-21T12:49:...|     maximo|123456915|   810, Maple Street|\n",
      "|4210653312021765| WestChester|United States|PTidwell@example.com|(224)123-5067|        PA|   19380|    Parker|  Tidwell|2018-04-21T12:49:...|    arnulfo|123453807|     649, Eagle Road|\n",
      "+----------------+------------+-------------+--------------------+-------------+----------+--------+----------+---------+--------------------+-----------+---------+--------------------+\n",
      "only showing top 20 rows\n",
      "\n"
     ]
    }
   ],
   "source": [
    "df_customer=df_customer.withColumn('CUST_PHONE', concat(lit('(224)'), df_customer['CUST_PHONE'].substr(1,3), lit('-'), df_customer['CUST_PHONE'].substr(4,4)))\n",
    "df_customer.show()"
   ]
  },
  {
   "cell_type": "code",
   "execution_count": null,
   "metadata": {},
   "outputs": [],
   "source": []
  },
  {
   "cell_type": "code",
   "execution_count": 16,
   "metadata": {},
   "outputs": [],
   "source": [
    "df_customer = df_customer.withColumn('CUST_ZIP', df_customer['CUST_ZIP'].cast('int'))\n"
   ]
  },
  {
   "cell_type": "code",
   "execution_count": 17,
   "metadata": {},
   "outputs": [
    {
     "name": "stdout",
     "output_type": "stream",
     "text": [
      "root\n",
      " |-- CREDIT_CARD_NO: string (nullable = true)\n",
      " |-- CUST_CITY: string (nullable = true)\n",
      " |-- CUST_COUNTRY: string (nullable = true)\n",
      " |-- CUST_EMAIL: string (nullable = true)\n",
      " |-- CUST_PHONE: string (nullable = true)\n",
      " |-- CUST_STATE: string (nullable = true)\n",
      " |-- CUST_ZIP: integer (nullable = true)\n",
      " |-- FIRST_NAME: string (nullable = true)\n",
      " |-- LAST_NAME: string (nullable = true)\n",
      " |-- LAST_UPDATED: string (nullable = true)\n",
      " |-- MIDDLE_NAME: string (nullable = true)\n",
      " |-- SSN: long (nullable = true)\n",
      " |-- FULL_STREET_ADDRESS: string (nullable = true)\n",
      "\n"
     ]
    }
   ],
   "source": [
    "df_customer.printSchema()"
   ]
  },
  {
   "cell_type": "code",
   "execution_count": 18,
   "metadata": {},
   "outputs": [],
   "source": [
    "df_customer = df_customer.withColumn('LAST_UPDATED', df_customer['LAST_UPDATED'].cast('timestamp'))\n"
   ]
  },
  {
   "cell_type": "code",
   "execution_count": 19,
   "metadata": {},
   "outputs": [
    {
     "name": "stdout",
     "output_type": "stream",
     "text": [
      "+-------------------+--------+\n",
      "|       LAST_UPDATED|CUST_ZIP|\n",
      "+-------------------+--------+\n",
      "|2018-04-21 12:49:02|   39120|\n",
      "|2018-04-21 12:49:02|    6109|\n",
      "|2018-04-21 12:49:02|   60142|\n",
      "|2018-04-21 12:49:02|   53151|\n",
      "|2018-04-21 12:49:02|   79930|\n",
      "|2018-04-21 12:49:02|   44070|\n",
      "|2018-04-21 12:49:02|   22180|\n",
      "|2018-04-21 12:49:02|   91010|\n",
      "|2018-04-21 12:49:02|   48867|\n",
      "|2018-04-21 12:49:02|   60099|\n",
      "|2018-04-21 12:49:02|   44512|\n",
      "|2018-04-21 12:49:02|   29483|\n",
      "|2018-04-21 12:49:02|   79930|\n",
      "|2018-04-21 12:49:02|   48430|\n",
      "|2018-04-21 12:49:02|   49418|\n",
      "|2018-04-21 12:49:02|   95993|\n",
      "|2018-04-21 12:49:02|   33904|\n",
      "|2018-04-21 12:49:02|   53045|\n",
      "|2018-04-21 12:49:02|   23223|\n",
      "|2018-04-21 12:49:02|   19380|\n",
      "+-------------------+--------+\n",
      "only showing top 20 rows\n",
      "\n"
     ]
    }
   ],
   "source": [
    "df_customer['LAST_UPDATED','CUST_ZIP'].show()"
   ]
  },
  {
   "cell_type": "code",
   "execution_count": 20,
   "metadata": {},
   "outputs": [],
   "source": [
    "df_customer.write.format(\"jdbc\") \\\n",
    "  .mode(\"append\") \\\n",
    "  .option(\"url\", \"jdbc:mysql://localhost:3306/creditcard_capstone\") \\\n",
    "  .option(\"dbtable\", \"CDW_SAPP_CUSTOMER\") \\\n",
    "  .option(\"user\", \"root\") \\\n",
    "  .option(\"password\", \"password\") \\\n",
    "  .save()"
   ]
  },
  {
   "cell_type": "code",
   "execution_count": 21,
   "metadata": {},
   "outputs": [
    {
     "name": "stdout",
     "output_type": "stream",
     "text": [
      "+----------------+------------+-------------+--------------------+-------------+----------+--------+----------+---------+-------------------+-----------+---------+--------------------+\n",
      "|  CREDIT_CARD_NO|   CUST_CITY| CUST_COUNTRY|          CUST_EMAIL|   CUST_PHONE|CUST_STATE|CUST_ZIP|FIRST_NAME|LAST_NAME|       LAST_UPDATED|MIDDLE_NAME|      SSN| FULL_STREET_ADDRESS|\n",
      "+----------------+------------+-------------+--------------------+-------------+----------+--------+----------+---------+-------------------+-----------+---------+--------------------+\n",
      "|4210653310061055|     Natchez|United States| AHooper@example.com|(224)123-7818|        MS|   39120|      Alec|   Hooper|2018-04-21 12:49:02|         wm|123456100|656, Main Street ...|\n",
      "|4210653310102868|Wethersfield|United States| EHolman@example.com|(224)123-8933|        CT|    6109|      Etta|   Holman|2018-04-21 12:49:02|    brendan|123453023|  829, Redwood Drive|\n",
      "|4210653310116272|     Huntley|United States| WDunham@example.com|(224)124-3018|        IL|   60142|    Wilber|   Dunham|2018-04-21 12:49:02|   ezequiel|123454487|683, 12th Street ...|\n",
      "|4210653310195948|   NewBerlin|United States|  EHardy@example.com|(224)124-3215|        WI|   53151|   Eugenio|    Hardy|2018-04-21 12:49:02|      trina|123459758|253, Country Club...|\n",
      "|4210653310356919|      ElPaso|United States|  WAyers@example.com|(224)124-2074|        TX|   79930|   Wilfred|    Ayers|2018-04-21 12:49:02|        may|123454431| 301, Madison Street|\n",
      "|4210653310395982|NorthOlmsted|United States|BWoodard@example.com|(224)124-2570|        OH|   44070|      Beau|  Woodard|2018-04-21 12:49:02|    ambrose|123454202|   3, Colonial Drive|\n",
      "|4210653310400536|      Vienna|United States|   SKemp@example.com|(224)123-9685|        VA|   22180|    Sheila|     Kemp|2018-04-21 12:49:02|      larry|123451799|  84, Belmont Avenue|\n",
      "|4210653310459911|      Duarte|United States| WHurley@example.com|(224)123-8213|        CA|   91010|     Wendy|   Hurley|2018-04-21 12:49:02|        ora|123453875|   728, Oxford Court|\n",
      "|4210653310773972|      Owosso|United States|AGilmore@example.com|(224)124-0689|        MI|   48867|      Alec|  Gilmore|2018-04-21 12:49:02|     tracie|123457511|   81, Forest Street|\n",
      "|4210653310794854|        Zion|United States|    BLau@example.com|(224)123-5222|        IL|   60099|    Barbra|      Lau|2018-04-21 12:49:02|    mitchel|123457464|   561, Court Street|\n",
      "|4210653310817373|  Youngstown|United States|EThomson@example.com|(224)124-1363|        OH|   44512|   Edmundo|  Thomson|2018-04-21 12:49:02|      denny|123457639|  622, Cypress Court|\n",
      "|4210653310844617| Summerville|United States| ETruong@example.com|(224)123-6228|        SC|   29483|      Elsa|   Truong|2018-04-21 12:49:02|   isabelle|123453242|924, 8th Street West|\n",
      "|4210653311015303|      ElPaso|United States|HMckinney@example...|(224)123-8165|        TX|   79930|     Homer| Mckinney|2018-04-21 12:49:02|      henry|123454339|    611, East Avenue|\n",
      "|4210653311215039|      Fenton|United States|   RKidd@example.com|(224)123-4730|        MI|   48430|      Rita|     Kidd|2018-04-21 12:49:02|     rickey|123454537|       680, Route 44|\n",
      "|4210653311229354|  Grandville|United States|ABallard@example.com|(224)124-2113|        MI|   49418|    Amalia|  Ballard|2018-04-21 12:49:02|  heriberto|123452373|   71, Warren Street|\n",
      "|4210653311652836|    YubaCity|United States| PThomas@example.com|(224)123-9888|        CA|   95993|     Patty|   Thomas|2018-04-21 12:49:02|   angelita|123455343|   195, Jones Street|\n",
      "|4210653311707126|   CapeCoral|United States| JMorrow@example.com|(224)124-0158|        FL|   33904|  Josefina|   Morrow|2018-04-21 12:49:02|   dorothea|123451533|     500, New Street|\n",
      "|4210653311730764|  Brookfield|United States|NAndrews@example.com|(224)124-1408|        WI|   53045|    Nelson|  Andrews|2018-04-21 12:49:02|  jefferson|123459278|989, Division Street|\n",
      "|4210653311898082|    Richmond|United States|MSchneider@exampl...|(224)123-8390|        VA|   23223|    Miquel|Schneider|2018-04-21 12:49:02|     maximo|123456915|   810, Maple Street|\n",
      "|4210653312021765| WestChester|United States|PTidwell@example.com|(224)123-5067|        PA|   19380|    Parker|  Tidwell|2018-04-21 12:49:02|    arnulfo|123453807|     649, Eagle Road|\n",
      "+----------------+------------+-------------+--------------------+-------------+----------+--------+----------+---------+-------------------+-----------+---------+--------------------+\n",
      "only showing top 20 rows\n",
      "\n"
     ]
    }
   ],
   "source": [
    "df_new = spark.read.format(\"jdbc\") \\\n",
    "  .option(\"url\", \"jdbc:mysql://localhost:3306/creditcard_capstone\") \\\n",
    "  .option(\"dbtable\", \"CDW_SAPP_CUSTOMER\") \\\n",
    "  .option(\"user\", \"root\") \\\n",
    "  .option(\"password\", \"password\") \\\n",
    "  .load()\n",
    "\n",
    "df_new.show()\n"
   ]
  }
 ],
 "metadata": {
  "kernelspec": {
   "display_name": "cap_env",
   "language": "python",
   "name": "python3"
  },
  "language_info": {
   "codemirror_mode": {
    "name": "ipython",
    "version": 3
   },
   "file_extension": ".py",
   "mimetype": "text/x-python",
   "name": "python",
   "nbconvert_exporter": "python",
   "pygments_lexer": "ipython3",
   "version": "3.10.9"
  },
  "orig_nbformat": 4,
  "vscode": {
   "interpreter": {
    "hash": "2441f423e655f8ac22724ab14a14cbf8121ca37602ec5c04779105a54ef9436a"
   }
  }
 },
 "nbformat": 4,
 "nbformat_minor": 2
}
