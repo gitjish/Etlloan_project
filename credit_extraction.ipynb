{
 "cells": [
  {
   "cell_type": "code",
   "execution_count": 1,
   "metadata": {},
   "outputs": [],
   "source": [
    "import findspark\n",
    "findspark.init()\n",
    "from pyspark.sql import SparkSession\n",
    "from pyspark.sql.functions import*\n",
    "from cap_secrets import username\n",
    "from cap_secrets import password"
   ]
  },
  {
   "cell_type": "code",
   "execution_count": 2,
   "metadata": {},
   "outputs": [],
   "source": [
    "# 2. Initializing SparkSession\n",
    "spark = SparkSession.builder.appName('creditinfo1').getOrCreate()"
   ]
  },
  {
   "cell_type": "code",
   "execution_count": 3,
   "metadata": {},
   "outputs": [],
   "source": [
    "df_credit = spark.read.json(\"cdw_sapp_credit.json\")"
   ]
  },
  {
   "cell_type": "code",
   "execution_count": 4,
   "metadata": {},
   "outputs": [
    {
     "name": "stdout",
     "output_type": "stream",
     "text": [
      "+-----------+----------------+---------+---+-----+--------------+----------------+-----------------+----+\n",
      "|BRANCH_CODE|  CREDIT_CARD_NO| CUST_SSN|DAY|MONTH|TRANSACTION_ID|TRANSACTION_TYPE|TRANSACTION_VALUE|YEAR|\n",
      "+-----------+----------------+---------+---+-----+--------------+----------------+-----------------+----+\n",
      "|        114|4210653349028689|123459988| 14|    2|             1|       Education|             78.9|2018|\n",
      "|         35|4210653349028689|123459988| 20|    3|             2|   Entertainment|            14.24|2018|\n",
      "|        160|4210653349028689|123459988|  8|    7|             3|         Grocery|             56.7|2018|\n",
      "|        114|4210653349028689|123459988| 19|    4|             4|   Entertainment|            59.73|2018|\n",
      "|         93|4210653349028689|123459988| 10|   10|             5|             Gas|             3.59|2018|\n",
      "+-----------+----------------+---------+---+-----+--------------+----------------+-----------------+----+\n",
      "only showing top 5 rows\n",
      "\n"
     ]
    }
   ],
   "source": [
    "df_credit.show(5)"
   ]
  },
  {
   "cell_type": "code",
   "execution_count": 4,
   "metadata": {},
   "outputs": [
    {
     "name": "stdout",
     "output_type": "stream",
     "text": [
      "root\n",
      " |-- BRANCH_CODE: long (nullable = true)\n",
      " |-- CREDIT_CARD_NO: string (nullable = true)\n",
      " |-- CUST_SSN: long (nullable = true)\n",
      " |-- DAY: string (nullable = true)\n",
      " |-- MONTH: string (nullable = true)\n",
      " |-- TRANSACTION_ID: long (nullable = true)\n",
      " |-- TRANSACTION_TYPE: string (nullable = true)\n",
      " |-- TRANSACTION_VALUE: double (nullable = true)\n",
      " |-- YEAR: string (nullable = true)\n",
      "\n"
     ]
    }
   ],
   "source": [
    "df_credit = df_credit.withColumn('YEAR', df_credit['YEAR'].cast('string'))\n",
    "df_credit = df_credit.withColumn('MONTH', lpad(df_credit['MONTH'], 2, '0'))\n",
    "df_credit = df_credit.withColumn('DAY', lpad(df_credit['DAY'], 2, '0'))\n",
    "# df_cust = df_cust.select(df_cust['CUST_PHONE'].cast('string'))\n",
    "df_credit.printSchema()"
   ]
  },
  {
   "cell_type": "code",
   "execution_count": 5,
   "metadata": {},
   "outputs": [],
   "source": [
    "df_credit = df_credit.withColumn('TIMEID', concat(df_credit['YEAR'],df_credit['MONTH'],df_credit['DAY']))\n"
   ]
  },
  {
   "cell_type": "code",
   "execution_count": 22,
   "metadata": {},
   "outputs": [
    {
     "name": "stdout",
     "output_type": "stream",
     "text": [
      "+-----------+----------------+---------+---+-----+--------------+----------------+-----------------+----+--------+\n",
      "|BRANCH_CODE|  CREDIT_CARD_NO| CUST_SSN|DAY|MONTH|TRANSACTION_ID|TRANSACTION_TYPE|TRANSACTION_VALUE|YEAR|  TIMEID|\n",
      "+-----------+----------------+---------+---+-----+--------------+----------------+-----------------+----+--------+\n",
      "|        114|4210653349028689|123459988| 14|   02|             1|       Education|             78.9|2018|20180214|\n",
      "|         35|4210653349028689|123459988| 20|   03|             2|   Entertainment|            14.24|2018|20180320|\n",
      "|        160|4210653349028689|123459988| 08|   07|             3|         Grocery|             56.7|2018|20180708|\n",
      "|        114|4210653349028689|123459988| 19|   04|             4|   Entertainment|            59.73|2018|20180419|\n",
      "|         93|4210653349028689|123459988| 10|   10|             5|             Gas|             3.59|2018|20181010|\n",
      "|        164|4210653349028689|123459988| 28|   05|             6|       Education|             6.89|2018|20180528|\n",
      "|        119|4210653349028689|123459988| 19|   05|             7|   Entertainment|            43.39|2018|20180519|\n",
      "|         23|4210653349028689|123459988| 08|   08|             8|             Gas|            95.39|2018|20180808|\n",
      "|        166|4210653349028689|123459988| 18|   03|             9|   Entertainment|            93.26|2018|20180318|\n",
      "|         83|4210653349028689|123459988| 03|   09|            10|           Bills|           100.38|2018|20180903|\n",
      "|         52|4210653349028689|123459988| 21|   08|            11|             Gas|            98.75|2018|20180821|\n",
      "|         17|4210653349028689|123459988| 24|   12|            12|             Gas|            42.71|2018|20181224|\n",
      "|         80|4210653349028689|123459988| 03|   04|            13|         Grocery|            40.24|2018|20180403|\n",
      "|         50|4210653349028689|123459988| 15|   04|            14|           Bills|            17.81|2018|20180415|\n",
      "|        123|4210653349028689|123459988| 17|   05|            15|           Bills|             29.0|2018|20180517|\n",
      "|          9|4210653349028689|123459988| 06|   07|            16|            Test|            70.63|2018|20180706|\n",
      "|          3|4210653349028689|123459988| 28|   09|            17|            Test|            27.04|2018|20180928|\n",
      "|        135|4210653349028689|123459988| 04|   07|            18|   Entertainment|            88.75|2018|20180704|\n",
      "|        103|4210653349028689|123459988| 24|   04|            19|            Test|            77.02|2018|20180424|\n",
      "|         78|4210653349028689|123459988| 08|   10|            20|           Bills|            34.34|2018|20181008|\n",
      "+-----------+----------------+---------+---+-----+--------------+----------------+-----------------+----+--------+\n",
      "only showing top 20 rows\n",
      "\n"
     ]
    }
   ],
   "source": [
    "df_credit.show(5)"
   ]
  },
  {
   "cell_type": "code",
   "execution_count": 6,
   "metadata": {},
   "outputs": [
    {
     "name": "stdout",
     "output_type": "stream",
     "text": [
      "+-----------+----------------+---------+--------------+----------------+-----------------+--------+\n",
      "|BRANCH_CODE|  CREDIT_CARD_NO| CUST_SSN|TRANSACTION_ID|TRANSACTION_TYPE|TRANSACTION_VALUE|  TIMEID|\n",
      "+-----------+----------------+---------+--------------+----------------+-----------------+--------+\n",
      "|        114|4210653349028689|123459988|             1|       Education|             78.9|20180214|\n",
      "|         35|4210653349028689|123459988|             2|   Entertainment|            14.24|20180320|\n",
      "|        160|4210653349028689|123459988|             3|         Grocery|             56.7|20180708|\n",
      "|        114|4210653349028689|123459988|             4|   Entertainment|            59.73|20180419|\n",
      "|         93|4210653349028689|123459988|             5|             Gas|             3.59|20181010|\n",
      "|        164|4210653349028689|123459988|             6|       Education|             6.89|20180528|\n",
      "|        119|4210653349028689|123459988|             7|   Entertainment|            43.39|20180519|\n",
      "|         23|4210653349028689|123459988|             8|             Gas|            95.39|20180808|\n",
      "|        166|4210653349028689|123459988|             9|   Entertainment|            93.26|20180318|\n",
      "|         83|4210653349028689|123459988|            10|           Bills|           100.38|20180903|\n",
      "|         52|4210653349028689|123459988|            11|             Gas|            98.75|20180821|\n",
      "|         17|4210653349028689|123459988|            12|             Gas|            42.71|20181224|\n",
      "|         80|4210653349028689|123459988|            13|         Grocery|            40.24|20180403|\n",
      "|         50|4210653349028689|123459988|            14|           Bills|            17.81|20180415|\n",
      "|        123|4210653349028689|123459988|            15|           Bills|             29.0|20180517|\n",
      "|          9|4210653349028689|123459988|            16|            Test|            70.63|20180706|\n",
      "|          3|4210653349028689|123459988|            17|            Test|            27.04|20180928|\n",
      "|        135|4210653349028689|123459988|            18|   Entertainment|            88.75|20180704|\n",
      "|        103|4210653349028689|123459988|            19|            Test|            77.02|20180424|\n",
      "|         78|4210653349028689|123459988|            20|           Bills|            34.34|20181008|\n",
      "+-----------+----------------+---------+--------------+----------------+-----------------+--------+\n",
      "only showing top 20 rows\n",
      "\n"
     ]
    }
   ],
   "source": [
    "df_credit = df_credit.drop('DAY','MONTH','YEAR')\n",
    "df_credit.show(5)"
   ]
  },
  {
   "cell_type": "code",
   "execution_count": 7,
   "metadata": {},
   "outputs": [],
   "source": [
    "df_credit = df_credit.withColumnRenamed('CREDIT_CARD_NO','CUST_CC_NO')\n",
    "\n"
   ]
  },
  {
   "cell_type": "code",
   "execution_count": 8,
   "metadata": {},
   "outputs": [],
   "source": [
    "df_credit.write.format(\"jdbc\") \\\n",
    "  .mode(\"append\") \\\n",
    "  .option(\"url\", \"jdbc:mysql://localhost:3306/creditcard_capstone\") \\\n",
    "  .option(\"dbtable\", \"CDW_SAPP_CREDIT_CARD\") \\\n",
    "  .option(\"user\", username) \\\n",
    "  .option(\"password\", password) \\\n",
    "  .save()\n",
    "\n",
    "               \n"
   ]
  },
  {
   "cell_type": "code",
   "execution_count": 6,
   "metadata": {},
   "outputs": [
    {
     "name": "stdout",
     "output_type": "stream",
     "text": [
      "+-----------+----------------+---------+--------------+----------------+-----------------+--------+\n",
      "|BRANCH_CODE|      CUST_CC_NO| CUST_SSN|TRANSACTION_ID|TRANSACTION_TYPE|TRANSACTION_VALUE|  TIMEID|\n",
      "+-----------+----------------+---------+--------------+----------------+-----------------+--------+\n",
      "|        156|4210653312478046|123455692|         22562|         Grocery|            91.08|20180813|\n",
      "|        114|4210653349028689|123459988|             1|       Education|             78.9|20180214|\n",
      "|        180|4210653342242023|123451310|         45069|           Bills|            77.79|20180315|\n",
      "|        114|4210653312478046|123455692|         22563|           Bills|             22.2|20180626|\n",
      "|        107|4210653342242023|123451310|         45070|      Healthcare|            20.47|20180419|\n",
      "+-----------+----------------+---------+--------------+----------------+-----------------+--------+\n",
      "only showing top 5 rows\n",
      "\n"
     ]
    }
   ],
   "source": [
    "df_new = spark.read.format(\"jdbc\") \\\n",
    "  .option(\"url\", \"jdbc:mysql://localhost:3306/creditcard_capstone\") \\\n",
    "  .option(\"dbtable\", \"CDW_SAPP_CREDIT_CARD\") \\\n",
    "  .option(\"user\", username) \\\n",
    "  .option(\"password\", password) \\\n",
    "  .load()\n",
    "df_new.show(5)"
   ]
  }
 ],
 "metadata": {
  "kernelspec": {
   "display_name": "cap_env",
   "language": "python",
   "name": "python3"
  },
  "language_info": {
   "codemirror_mode": {
    "name": "ipython",
    "version": 3
   },
   "file_extension": ".py",
   "mimetype": "text/x-python",
   "name": "python",
   "nbconvert_exporter": "python",
   "pygments_lexer": "ipython3",
   "version": "3.10.9"
  },
  "orig_nbformat": 4,
  "vscode": {
   "interpreter": {
    "hash": "2441f423e655f8ac22724ab14a14cbf8121ca37602ec5c04779105a54ef9436a"
   }
  }
 },
 "nbformat": 4,
 "nbformat_minor": 2
}
